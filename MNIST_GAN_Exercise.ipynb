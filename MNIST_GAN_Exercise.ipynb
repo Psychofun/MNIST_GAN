{
 "cells": [
  {
   "cell_type": "markdown",
   "metadata": {},
   "source": [
    "# Generative Adversarial Network\n",
    "\n",
    "In this notebook, we'll be building a generative adversarial network (GAN) trained on the MNIST dataset. From this, we'll be able to generate new handwritten digits!\n",
    "\n",
    "GANs were [first reported on](https://arxiv.org/abs/1406.2661) in 2014 from Ian Goodfellow and others in Yoshua Bengio's lab. Since then, GANs have exploded in popularity. Here are a few examples to check out:\n",
    "\n",
    "* [Pix2Pix](https://affinelayer.com/pixsrv/) \n",
    "* [CycleGAN & Pix2Pix in PyTorch, Jun-Yan Zhu](https://github.com/junyanz/pytorch-CycleGAN-and-pix2pix)\n",
    "* [A list of generative models](https://github.com/wiseodd/generative-models)\n",
    "\n",
    "The idea behind GANs is that you have two networks, a generator $G$ and a discriminator $D$, competing against each other. The generator makes \"fake\" data to pass to the discriminator. The discriminator also sees real training data and predicts if the data it's received is real or fake. \n",
    "> * The generator is trained to fool the discriminator, it wants to output data that looks _as close as possible_ to real, training data. \n",
    "* The discriminator is a classifier that is trained to figure out which data is real and which is fake. \n",
    "\n",
    "What ends up happening is that the generator learns to make data that is indistinguishable from real data to the discriminator.\n",
    "\n",
    "<img src='assets/gan_pipeline.png' width=70% />\n",
    "\n",
    "The general structure of a GAN is shown in the diagram above, using MNIST images as data. The latent sample is a random vector that the generator uses to construct its fake images. This is often called a **latent vector** and that vector space is called **latent space**. As the generator trains, it figures out how to map latent vectors to recognizable images that can fool the discriminator.\n",
    "\n",
    "If you're interested in generating only new images, you can throw out the discriminator after training. In this notebook, I'll show you how to define and train these adversarial networks in PyTorch and generate new images!"
   ]
  },
  {
   "cell_type": "code",
   "execution_count": 33,
   "metadata": {},
   "outputs": [],
   "source": [
    "%matplotlib inline\n",
    "\n",
    "import numpy as np\n",
    "import torch\n",
    "import matplotlib.pyplot as plt"
   ]
  },
  {
   "cell_type": "code",
   "execution_count": 34,
   "metadata": {},
   "outputs": [],
   "source": [
    "from torchvision import datasets\n",
    "import torchvision.transforms as transforms\n",
    "\n",
    "# number of subprocesses to use for data loading\n",
    "num_workers = 0\n",
    "# how many samples per batch to load\n",
    "batch_size = 64\n",
    "\n",
    "# convert data to torch.FloatTensor\n",
    "transform = transforms.ToTensor()\n",
    "\n",
    "# get the training datasets\n",
    "train_data = datasets.MNIST(root='data', train=True,\n",
    "                                   download=True, transform=transform)\n",
    "\n",
    "# prepare data loader\n",
    "train_loader = torch.utils.data.DataLoader(train_data, batch_size=batch_size,\n",
    "                                           num_workers=num_workers)"
   ]
  },
  {
   "cell_type": "markdown",
   "metadata": {},
   "source": [
    "### Visualize the data"
   ]
  },
  {
   "cell_type": "code",
   "execution_count": 35,
   "metadata": {},
   "outputs": [
    {
     "data": {
      "text/plain": [
       "<matplotlib.image.AxesImage at 0x7fd922ad8438>"
      ]
     },
     "execution_count": 35,
     "metadata": {},
     "output_type": "execute_result"
    },
    {
     "data": {
      "image/png": "[encoded data removed]",
      "text/plain": [
       "<matplotlib.figure.Figure at 0x7fd922b7ff60>"
      ]
     },
     "metadata": {
      "needs_background": "light"
     },
     "output_type": "display_data"
    }
   ],
   "source": [
    "# obtain one batch of training images\n",
    "dataiter = iter(train_loader)\n",
    "images, labels = dataiter.next()\n",
    "images = images.numpy()\n",
    "\n",
    "# get one image from the batch\n",
    "img = np.squeeze(images[0])\n",
    "\n",
    "fig = plt.figure(figsize = (3,3)) \n",
    "ax = fig.add_subplot(111)\n",
    "ax.imshow(img, cmap='gray')"
   ]
  },
  {
   "cell_type": "markdown",
   "metadata": {},
   "source": [
    "---\n",
    "# Define the Model\n",
    "\n",
    "A GAN is comprised of two adversarial networks, a discriminator and a generator."
   ]
  },
  {
   "cell_type": "markdown",
   "metadata": {},
   "source": [
    "## Discriminator\n",
    "\n",
    "The discriminator network is going to be a pretty typical linear classifier. To make this network a universal function approximator, we'll need at least one hidden layer, and these hidden layers should have one key attribute:\n",
    "> All hidden layers will have a [Leaky ReLu](https://pytorch.org/docs/stable/nn.html#torch.nn.LeakyReLU) activation function applied to their outputs.\n",
    "\n",
    "<img src='assets/gan_network.png' width=70% />\n",
    "\n",
    "#### Leaky ReLu\n",
    "\n",
    "We should use a leaky ReLU to allow gradients to flow backwards through the layer unimpeded. A leaky ReLU is like a normal ReLU, except that there is a small non-zero output for negative input values.\n",
    "\n",
    "<img src='assets/leaky_relu.png' width=40% />\n",
    "\n",
    "#### Sigmoid Output\n",
    "\n",
    "We'll also take the approach of using a more numerically stable loss function on the outputs. Recall that we want the discriminator to output a value 0-1 indicating whether an image is _real or fake_. \n",
    "> We will ultimately use [BCEWithLogitsLoss](https://pytorch.org/docs/stable/nn.html#bcewithlogitsloss), which combines a `sigmoid` activation function **and** and binary cross entropy loss in one function. \n",
    "\n",
    "So, our final output layer should not have any activation function applied to it."
   ]
  },
  {
   "cell_type": "code",
   "execution_count": 43,
   "metadata": {},
   "outputs": [],
   "source": [
    "import torch.nn as nn\n",
    "import torch.nn.functional as F\n",
    "\n",
    "class Discriminator(nn.Module):\n",
    "\n",
    "    def __init__(self, input_size, hidden_dim, output_size):\n",
    "        super(Discriminator, self).__init__()\n",
    "        \n",
    "        # define all layers\n",
    "        self.fc1 = nn.Linear(input_size, hidden_dim*2)\n",
    "        self.fc2 = nn.Linear(hidden_dim*2,hidden_dim)\n",
    "        self.fc3 = nn.Linear(hidden_dim, output_size)\n",
    "        \n",
    "        self.activation = nn.LeakyReLU(negative_slope=0.1)\n",
    "        #self.sigmoid_activation = nn.Sigmoid()\n",
    "        \n",
    "        \n",
    "        \n",
    "    def forward(self, x):\n",
    "        # flatten image\n",
    "        #(batch,1,rows,columns) or (batch, features)\n",
    "        m  = x.shape[0]\n",
    "        x = x.view(m,-1)\n",
    "        \n",
    "        # pass x through all layers\n",
    "        # apply leaky relu activation to all hidden layers\n",
    "        x = self.activation(\n",
    "                            self.fc1(x)\n",
    "                           )\n",
    "        x = self.activation(\n",
    "                            self.fc2(x)\n",
    "            \n",
    "                           )\n",
    "        x = self.fc3(x)\n",
    "                                    \n",
    "        \n",
    "        # Output logits\n",
    "        return x\n"
   ]
  },
  {
   "cell_type": "markdown",
   "metadata": {},
   "source": [
    "## Generator\n",
    "\n",
    "The generator network will be almost exactly the same as the discriminator network, except that we're applying a [tanh activation function](https://pytorch.org/docs/stable/nn.html#tanh) to our output layer.\n",
    "\n",
    "#### tanh Output\n",
    "The generator has been found to perform the best with $tanh$ for the generator output, which scales the output to be between -1 and 1, instead of 0 and 1. \n",
    "\n",
    "<img src='assets/tanh_fn.png' width=40% />\n",
    "\n",
    "Recall that we also want these outputs to be comparable to the *real* input pixel values, which are read in as normalized values between 0 and 1. \n",
    "> So, we'll also have to **scale our real input images to have pixel values between -1 and 1** when we train the discriminator. \n",
    "\n",
    "I'll do this in the training loop, later on."
   ]
  },
  {
   "cell_type": "code",
   "execution_count": 44,
   "metadata": {},
   "outputs": [],
   "source": [
    "class Generator(nn.Module):\n",
    "\n",
    "    def __init__(self, input_size, hidden_dim, output_size):\n",
    "        super(Generator, self).__init__()\n",
    "        \n",
    "        # define all layers\n",
    "        self.fc0 = nn.Linear(input_size, hidden_dim)\n",
    "        self.fc1 = nn.Linear(hidden_dim, hidden_dim * 2)\n",
    "        self.fc2 = nn.Linear(hidden_dim * 2, output_size)\n",
    "        \n",
    "        self.activation = nn.LeakyReLU(negative_slope=0.1)\n",
    "        self.tanh_activation = nn.Tanh()\n",
    "        \n",
    "\n",
    "    def forward(self, x):\n",
    "        # pass x through all layers\n",
    "        x = self.activation(self.fc0(x))\n",
    "        x = self.activation(self.fc1(x))\n",
    "        \n",
    "        # final layer should have tanh applied\n",
    "        x = self.tanh_activation(self.fc2(x))\n",
    "        \n",
    "        \n",
    "        \n",
    "        return x"
   ]
  },
  {
   "cell_type": "markdown",
   "metadata": {},
   "source": [
    "## Model hyperparameters"
   ]
  },
  {
   "cell_type": "code",
   "execution_count": 45,
   "metadata": {},
   "outputs": [],
   "source": [
    "# Discriminator hyperparams\n",
    "\n",
    "# Size of input image to discriminator (28*28)\n",
    "input_size = 784\n",
    "# Size of discriminator output (real or fake)\n",
    "d_output_size = 1\n",
    "# Size of *last* hidden layer in the discriminator\n",
    "d_hidden_size = 512\n",
    "\n",
    "# Generator hyperparams\n",
    "\n",
    "# Size of latent vector to give to generator\n",
    "z_size = 200\n",
    "# Size of discriminator output (generated image)\n",
    "g_output_size = 784\n",
    "# Size of *first* hidden layer in the generator\n",
    "g_hidden_size = 512"
   ]
  },
  {
   "cell_type": "markdown",
   "metadata": {},
   "source": [
    "## Build complete network\n",
    "\n",
    "Now we're instantiating the discriminator and generator from the classes defined above. Make sure you've passed in the correct input arguments."
   ]
  },
  {
   "cell_type": "code",
   "execution_count": 46,
   "metadata": {},
   "outputs": [
    {
     "name": "stdout",
     "output_type": "stream",
     "text": [
      "Discriminator(\n",
      "  (fc1): Linear(in_features=784, out_features=1024, bias=True)\n",
      "  (fc2): Linear(in_features=1024, out_features=512, bias=True)\n",
      "  (fc3): Linear(in_features=512, out_features=1, bias=True)\n",
      "  (activation): LeakyReLU(negative_slope=0.1)\n",
      ")\n",
      "\n",
      "Generator(\n",
      "  (fc0): Linear(in_features=200, out_features=512, bias=True)\n",
      "  (fc1): Linear(in_features=512, out_features=1024, bias=True)\n",
      "  (fc2): Linear(in_features=1024, out_features=784, bias=True)\n",
      "  (activation): LeakyReLU(negative_slope=0.1)\n",
      "  (tanh_activation): Tanh()\n",
      ")\n"
     ]
    }
   ],
   "source": [
    "# instantiate discriminator and generator\n",
    "D = Discriminator(input_size, d_hidden_size, d_output_size)\n",
    "G = Generator(z_size, g_hidden_size, g_output_size)\n",
    "\n",
    "# check that they are as you expect\n",
    "print(D)\n",
    "print()\n",
    "print(G)"
   ]
  },
  {
   "cell_type": "markdown",
   "metadata": {},
   "source": [
    "---\n",
    "## Discriminator and Generator Losses\n",
    "\n",
    "Now we need to calculate the losses. \n",
    "\n",
    "### Discriminator Losses\n",
    "\n",
    "> * For the discriminator, the total loss is the sum of the losses for real and fake images, `d_loss = d_real_loss + d_fake_loss`. \n",
    "* Remember that we want the discriminator to output 1 for real images and 0 for fake images, so we need to set up the losses to reflect that.\n",
    "\n",
    "<img src='assets/gan_pipeline.png' width=70% />\n",
    "\n",
    "The losses will by binary cross entropy loss with logits, which we can get with [BCEWithLogitsLoss](https://pytorch.org/docs/stable/nn.html#bcewithlogitsloss). This combines a `sigmoid` activation function **and** and binary cross entropy loss in one function.\n",
    "\n",
    "For the real images, we want `D(real_images) = 1`. That is, we want the discriminator to classify the the real images with a label = 1, indicating that these are real. To help the discriminator generalize better, the labels are **reduced a bit from 1.0 to 0.9**. For this, we'll use the parameter `smooth`; if True, then we should smooth our labels. In PyTorch, this looks like `labels = torch.ones(size) * 0.9`\n",
    "\n",
    "The discriminator loss for the fake data is similar. We want `D(fake_images) = 0`, where the fake images are the _generator output_, `fake_images = G(z)`. \n",
    "\n",
    "### Generator Loss\n",
    "\n",
    "The generator loss will look similar only with flipped labels. The generator's goal is to get `D(fake_images) = 1`. In this case, the labels are **flipped** to represent that the generator is trying to fool the discriminator into thinking that the images it generates (fakes) are real!"
   ]
  },
  {
   "cell_type": "code",
   "execution_count": 47,
   "metadata": {},
   "outputs": [],
   "source": [
    "# Calculate losses\n",
    "# Discriminator\n",
    "def real_loss(D_out, smooth=False):\n",
    "    # compare logits to real labels\n",
    "    # smooth labels if smooth=True\n",
    "    \n",
    "    # Number of examples in batch \n",
    "    m,d = D_out.shape\n",
    "    \n",
    "    labels = torch.ones(m)\n",
    "    \n",
    "    if smooth:\n",
    "        labels = labels * 0.9\n",
    "        \n",
    "    criterion = nn.BCEWithLogitsLoss()\n",
    "    \n",
    "    # D_out.squeeze() converts from shape (m,1) to m \n",
    "    loss = criterion(D_out.squeeze(), labels)\n",
    "    return loss\n",
    "\n",
    "# Generator\n",
    "def fake_loss(D_out):\n",
    "    # compare logits to fake labels\n",
    "    m,d = D_out.shape\n",
    "    \n",
    "    \n",
    "    labels = torch.zeros(m)\n",
    "    \n",
    "    criterion = nn.BCEWithLogitsLoss()\n",
    "    \n",
    "    loss = criterion(D_out.squeeze(), labels)\n",
    "    \n",
    "    \n",
    "    \n",
    "    return loss"
   ]
  },
  {
   "cell_type": "markdown",
   "metadata": {},
   "source": [
    "## Optimizers\n",
    "\n",
    "We want to update the generator and discriminator variables separately. So, we'll define two separate Adam optimizers."
   ]
  },
  {
   "cell_type": "code",
   "execution_count": 48,
   "metadata": {
    "scrolled": true
   },
   "outputs": [],
   "source": [
    "import torch.optim as optim\n",
    "\n",
    "# learning rate for optimizers\n",
    "lr = 0.002\n",
    "\n",
    "# Create optimizers for the discriminator and generator\n",
    "d_optimizer = optim.Adam(D.parameters(), lr=lr)\n",
    "g_optimizer = optim.Adam(G.parameters(), lr = lr)"
   ]
  },
  {
   "cell_type": "markdown",
   "metadata": {},
   "source": [
    "---\n",
    "## Training\n",
    "\n",
    "Training will involve alternating between training the discriminator and the generator. We'll use our functions `real_loss` and `fake_loss` to help us calculate the discriminator losses in all of the following cases.\n",
    "\n",
    "### Discriminator training\n",
    "1. Compute the discriminator loss on real, training images        \n",
    "2. Generate fake images\n",
    "3. Compute the discriminator loss on fake, generated images     \n",
    "4. Add up real and fake loss\n",
    "5. Perform backpropagation + an optimization step to update the discriminator's weights\n",
    "\n",
    "### Generator training\n",
    "1. Generate fake images\n",
    "2. Compute the discriminator loss on fake images, using **flipped** labels!\n",
    "3. Perform backpropagation + an optimization step to update the generator's weights\n",
    "\n",
    "#### Saving Samples\n",
    "\n",
    "As we train, we'll also print out some loss statistics and save some generated \"fake\" samples."
   ]
  },
  {
   "cell_type": "code",
   "execution_count": 49,
   "metadata": {
    "scrolled": true
   },
   "outputs": [
    {
     "name": "stdout",
     "output_type": "stream",
     "text": [
      "Epoch [    1/   40] | d_loss: 1.4335 | g_loss: 0.7063\n",
      "Epoch [    1/   40] | d_loss: 0.3276 | g_loss: 20.3842\n",
      "Epoch [    1/   40] | d_loss: 0.3252 | g_loss: 12.4311\n",
      "Epoch [    2/   40] | d_loss: 0.3252 | g_loss: 12.7923\n",
      "Epoch [    2/   40] | d_loss: 0.3251 | g_loss: 13.8250\n",
      "Epoch [    2/   40] | d_loss: 0.3251 | g_loss: 13.8713\n",
      "Epoch [    3/   40] | d_loss: 0.3251 | g_loss: 14.0878\n",
      "Epoch [    3/   40] | d_loss: 0.3263 | g_loss: 11.0931\n",
      "Epoch [    3/   40] | d_loss: 0.3251 | g_loss: 14.3991\n",
      "Epoch [    4/   40] | d_loss: 0.3257 | g_loss: 13.6058\n",
      "Epoch [    4/   40] | d_loss: 0.3251 | g_loss: 13.6539\n",
      "Epoch [    4/   40] | d_loss: 0.3253 | g_loss: 15.4621\n",
      "Epoch [    5/   40] | d_loss: 0.3251 | g_loss: 14.8976\n",
      "Epoch [    5/   40] | d_loss: 0.3251 | g_loss: 15.8235\n",
      "Epoch [    5/   40] | d_loss: 0.3251 | g_loss: 16.4096\n",
      "Epoch [    6/   40] | d_loss: 0.3253 | g_loss: 15.9218\n",
      "Epoch [    6/   40] | d_loss: 0.3251 | g_loss: 16.3206\n",
      "Epoch [    6/   40] | d_loss: 0.3251 | g_loss: 16.6816\n",
      "Epoch [    7/   40] | d_loss: 0.3252 | g_loss: 16.2778\n",
      "Epoch [    7/   40] | d_loss: 0.3252 | g_loss: 16.2923\n",
      "Epoch [    7/   40] | d_loss: 0.3251 | g_loss: 16.6869\n",
      "Epoch [    8/   40] | d_loss: 0.3251 | g_loss: 15.7040\n",
      "Epoch [    8/   40] | d_loss: 0.3251 | g_loss: 16.5861\n",
      "Epoch [    8/   40] | d_loss: 0.3251 | g_loss: 16.7140\n",
      "Epoch [    9/   40] | d_loss: 0.3251 | g_loss: 16.3949\n",
      "Epoch [    9/   40] | d_loss: 0.3917 | g_loss: 16.9463\n",
      "Epoch [    9/   40] | d_loss: 0.3256 | g_loss: 9.3181\n",
      "Epoch [   10/   40] | d_loss: 0.3253 | g_loss: 10.9598\n",
      "Epoch [   10/   40] | d_loss: 0.3257 | g_loss: 11.9666\n",
      "Epoch [   10/   40] | d_loss: 0.3251 | g_loss: 12.6410\n",
      "Epoch [   11/   40] | d_loss: 0.3251 | g_loss: 13.2410\n",
      "Epoch [   11/   40] | d_loss: 0.3251 | g_loss: 13.4050\n",
      "Epoch [   11/   40] | d_loss: 0.3251 | g_loss: 13.4120\n",
      "Epoch [   12/   40] | d_loss: 0.3300 | g_loss: 13.5131\n",
      "Epoch [   12/   40] | d_loss: 0.3281 | g_loss: 13.1961\n",
      "Epoch [   12/   40] | d_loss: 0.3252 | g_loss: 13.2738\n",
      "Epoch [   13/   40] | d_loss: 0.3272 | g_loss: 31.3601\n",
      "Epoch [   13/   40] | d_loss: 0.3251 | g_loss: 18.3886\n",
      "Epoch [   13/   40] | d_loss: 0.3251 | g_loss: 16.7139\n",
      "Epoch [   14/   40] | d_loss: 0.3251 | g_loss: 16.6397\n",
      "Epoch [   14/   40] | d_loss: 0.3251 | g_loss: 16.5257\n",
      "Epoch [   14/   40] | d_loss: 0.3251 | g_loss: 16.4670\n",
      "Epoch [   15/   40] | d_loss: 0.3251 | g_loss: 16.4907\n",
      "Epoch [   15/   40] | d_loss: 0.3251 | g_loss: 16.5354\n",
      "Epoch [   15/   40] | d_loss: 0.3251 | g_loss: 16.6123\n",
      "Epoch [   16/   40] | d_loss: 0.3251 | g_loss: 16.6677\n",
      "Epoch [   16/   40] | d_loss: 0.3251 | g_loss: 16.6088\n",
      "Epoch [   16/   40] | d_loss: 0.3251 | g_loss: 16.6761\n",
      "Epoch [   17/   40] | d_loss: 0.3254 | g_loss: 16.7957\n",
      "Epoch [   17/   40] | d_loss: 0.3264 | g_loss: 16.6865\n",
      "Epoch [   17/   40] | d_loss: 0.3252 | g_loss: 17.2748\n",
      "Epoch [   18/   40] | d_loss: 0.3251 | g_loss: 18.6610\n",
      "Epoch [   18/   40] | d_loss: 0.3265 | g_loss: 20.0937\n",
      "Epoch [   18/   40] | d_loss: 0.3251 | g_loss: 21.0756\n",
      "Epoch [   19/   40] | d_loss: 0.3256 | g_loss: 21.9519\n",
      "Epoch [   19/   40] | d_loss: 0.3251 | g_loss: 23.2046\n",
      "Epoch [   19/   40] | d_loss: 0.3251 | g_loss: 23.9187\n",
      "Epoch [   20/   40] | d_loss: 0.3251 | g_loss: 24.6469\n",
      "Epoch [   20/   40] | d_loss: 0.3251 | g_loss: 24.7057\n",
      "Epoch [   20/   40] | d_loss: 0.3256 | g_loss: 737.7426\n",
      "Epoch [   21/   40] | d_loss: 0.3255 | g_loss: 736.0162\n",
      "Epoch [   21/   40] | d_loss: 0.3253 | g_loss: 733.1804\n",
      "Epoch [   21/   40] | d_loss: 0.3251 | g_loss: 730.8886\n",
      "Epoch [   22/   40] | d_loss: 0.3254 | g_loss: 730.4622\n",
      "Epoch [   22/   40] | d_loss: 0.3251 | g_loss: 729.2139\n",
      "Epoch [   22/   40] | d_loss: 0.3258 | g_loss: 724.8904\n",
      "Epoch [   23/   40] | d_loss: 0.3278 | g_loss: 180.5394\n",
      "Epoch [   23/   40] | d_loss: 0.3253 | g_loss: 13.1243\n",
      "Epoch [   23/   40] | d_loss: 0.3252 | g_loss: 13.2149\n",
      "Epoch [   24/   40] | d_loss: 0.3252 | g_loss: 12.1728\n",
      "Epoch [   24/   40] | d_loss: 0.3251 | g_loss: 13.5576\n",
      "Epoch [   24/   40] | d_loss: 0.3251 | g_loss: 12.2750\n",
      "Epoch [   25/   40] | d_loss: 0.3251 | g_loss: 12.3954\n",
      "Epoch [   25/   40] | d_loss: 0.3254 | g_loss: 13.4531\n",
      "Epoch [   25/   40] | d_loss: 0.3257 | g_loss: 12.7477\n",
      "Epoch [   26/   40] | d_loss: 0.3334 | g_loss: 13.5069\n",
      "Epoch [   26/   40] | d_loss: 0.3252 | g_loss: 13.6180\n",
      "Epoch [   26/   40] | d_loss: 0.3252 | g_loss: 13.4352\n",
      "Epoch [   27/   40] | d_loss: 0.3253 | g_loss: 13.6064\n",
      "Epoch [   27/   40] | d_loss: 0.3267 | g_loss: 15.3975\n",
      "Epoch [   27/   40] | d_loss: 0.3270 | g_loss: 14.4600\n",
      "Epoch [   28/   40] | d_loss: 0.3255 | g_loss: 14.6483\n",
      "Epoch [   28/   40] | d_loss: 0.3260 | g_loss: 15.5424\n",
      "Epoch [   28/   40] | d_loss: 0.3251 | g_loss: 14.6830\n",
      "Epoch [   29/   40] | d_loss: 0.3272 | g_loss: 15.7920\n",
      "Epoch [   29/   40] | d_loss: 0.3254 | g_loss: 16.4314\n",
      "Epoch [   29/   40] | d_loss: 0.3252 | g_loss: 14.2033\n",
      "Epoch [   30/   40] | d_loss: 0.3265 | g_loss: 14.9968\n",
      "Epoch [   30/   40] | d_loss: 0.3266 | g_loss: 15.5295\n",
      "Epoch [   30/   40] | d_loss: 0.3251 | g_loss: 15.4912\n",
      "Epoch [   31/   40] | d_loss: 0.3253 | g_loss: 16.5914\n",
      "Epoch [   31/   40] | d_loss: 0.3251 | g_loss: 15.9252\n",
      "Epoch [   31/   40] | d_loss: 0.3251 | g_loss: 15.1529\n",
      "Epoch [   32/   40] | d_loss: 0.3253 | g_loss: 15.5389\n",
      "Epoch [   32/   40] | d_loss: 0.3251 | g_loss: 14.3796\n",
      "Epoch [   32/   40] | d_loss: 0.3253 | g_loss: 16.3514\n",
      "Epoch [   33/   40] | d_loss: 0.3251 | g_loss: 16.2920\n",
      "Epoch [   33/   40] | d_loss: 0.3251 | g_loss: 16.7473\n",
      "Epoch [   33/   40] | d_loss: 0.3256 | g_loss: 62.2748\n",
      "Epoch [   34/   40] | d_loss: 0.3252 | g_loss: 59.7668\n",
      "Epoch [   34/   40] | d_loss: 0.3277 | g_loss: 8.7486\n",
      "Epoch [   34/   40] | d_loss: 0.3253 | g_loss: 11.1932\n",
      "Epoch [   35/   40] | d_loss: 0.3260 | g_loss: 10.7328\n",
      "Epoch [   35/   40] | d_loss: 0.3257 | g_loss: 11.5991\n",
      "Epoch [   35/   40] | d_loss: 0.3257 | g_loss: 11.3668\n",
      "Epoch [   36/   40] | d_loss: 0.3252 | g_loss: 12.0306\n",
      "Epoch [   36/   40] | d_loss: 0.3252 | g_loss: 14.7676\n",
      "Epoch [   36/   40] | d_loss: 0.3255 | g_loss: 12.1517\n",
      "Epoch [   37/   40] | d_loss: 0.3256 | g_loss: 12.5390\n",
      "Epoch [   37/   40] | d_loss: 0.3295 | g_loss: 12.8103\n",
      "Epoch [   37/   40] | d_loss: 0.3255 | g_loss: 13.0518\n",
      "Epoch [   38/   40] | d_loss: 0.3286 | g_loss: 13.0784\n",
      "Epoch [   38/   40] | d_loss: 0.3258 | g_loss: 14.3975\n",
      "Epoch [   38/   40] | d_loss: 0.3255 | g_loss: 12.3914\n",
      "Epoch [   39/   40] | d_loss: 0.3278 | g_loss: 13.7578\n",
      "Epoch [   39/   40] | d_loss: 0.3276 | g_loss: 13.9122\n",
      "Epoch [   39/   40] | d_loss: 0.3258 | g_loss: 10.5849\n",
      "Epoch [   40/   40] | d_loss: 0.3267 | g_loss: 14.2139\n",
      "Epoch [   40/   40] | d_loss: 0.3252 | g_loss: 12.0837\n",
      "Epoch [   40/   40] | d_loss: 0.3255 | g_loss: 13.5341\n"
     ]
    }
   ],
   "source": [
    "import pickle as pkl\n",
    "\n",
    "# training hyperparams\n",
    "num_epochs = 40\n",
    "\n",
    "# keep track of loss and generated, \"fake\" samples\n",
    "samples = []\n",
    "losses = []\n",
    "\n",
    "print_every = 400\n",
    "\n",
    "# Get some fixed data for sampling. These are images that are held\n",
    "# constant throughout training, and allow us to inspect the model's performance\n",
    "sample_size=16\n",
    "fixed_z = np.random.uniform(-1, 1, size=(sample_size, z_size))\n",
    "fixed_z = torch.from_numpy(fixed_z).float()\n",
    "\n",
    "# train the network\n",
    "D.train()\n",
    "G.train()\n",
    "for epoch in range(num_epochs):\n",
    "    \n",
    "    for batch_i, (real_images, _) in enumerate(train_loader):\n",
    "                \n",
    "        batch_size = real_images.size(0)\n",
    "        \n",
    "        ## Important rescaling step ## \n",
    "        real_images = real_images*2 - 1  # rescale input images from [0,1) to [-1, 1)\n",
    "        \n",
    "        # ============================================\n",
    "        #            TRAIN THE DISCRIMINATOR\n",
    "        # ============================================\n",
    "                \n",
    "        # 1. Train with real images\n",
    "\n",
    "        # Compute the discriminator losses on real images\n",
    "        # use smoothed labels\n",
    "        \n",
    "        # 2. Train with fake images\n",
    "        \n",
    "        # Generate fake images\n",
    "        z = np.random.uniform(-1, 1, size=(batch_size, z_size))\n",
    "        z = torch.from_numpy(z).float()\n",
    "        fake_images = G(z)\n",
    "        \n",
    "        # Compute the discriminator losses on fake images        \n",
    "        \n",
    "        # add up real and fake losses and perform backprop\n",
    "        d_loss = real_loss(D(real_images), smooth = True) + fake_loss(D(fake_images))\n",
    "        \n",
    "        # Clear gradient setting to 0 \n",
    "        d_optimizer.zero_grad()\n",
    "        \n",
    "        # Backward prop\n",
    "        d_loss.backward()\n",
    "        \n",
    "        # Gradient descent step\n",
    "        d_optimizer.step()\n",
    "        \n",
    "        \n",
    "        \n",
    "        \n",
    "        \n",
    "        # =========================================\n",
    "        #            TRAIN THE GENERATOR\n",
    "        # =========================================\n",
    "        \n",
    "        # 1. Train with fake images and flipped labels\n",
    "        \n",
    "        # Generate fake images\n",
    "        z = np.random.uniform(-1, 1, size=(batch_size, z_size))\n",
    "        z = torch.from_numpy(z).float()\n",
    "        fake_images = G(z)\n",
    "        \n",
    "        # Compute the discriminator losses on fake images \n",
    "        # using flipped labels!\n",
    "        D_out = D(fake_images)\n",
    "        \n",
    "        # perform backprop\n",
    "        g_loss = real_loss(D_out)\n",
    "        \n",
    "        # Clear gradient\n",
    "        g_optimizer.zero_grad()\n",
    "        \n",
    "        # Backward pass\n",
    "        g_loss.backward()\n",
    "        \n",
    "        # Gradient descent step\n",
    "        g_optimizer.step()\n",
    "        \n",
    "\n",
    "        # Print some loss stats\n",
    "        if batch_i % print_every == 0:\n",
    "            # print discriminator and generator loss\n",
    "            print('Epoch [{:5d}/{:5d}] | d_loss: {:6.4f} | g_loss: {:6.4f}'.format(\n",
    "                    epoch+1, num_epochs, d_loss.item(), g_loss.item()))\n",
    "\n",
    "    \n",
    "    ## AFTER EACH EPOCH##\n",
    "    # append discriminator loss and generator loss\n",
    "    losses.append((d_loss.item(), g_loss.item()))\n",
    "    \n",
    "    # generate and save sample, fake images\n",
    "    G.eval() # eval mode for generating samples\n",
    "    samples_z = G(fixed_z)\n",
    "    samples.append(samples_z)\n",
    "    G.train() # back to train mode\n",
    "\n",
    "\n",
    "# Save training generator samples\n",
    "with open('train_samples.pkl', 'wb') as f:\n",
    "    pkl.dump(samples, f)"
   ]
  },
  {
   "cell_type": "markdown",
   "metadata": {},
   "source": [
    "## Training loss\n",
    "\n",
    "Here we'll plot the training losses for the generator and discriminator, recorded after each epoch."
   ]
  },
  {
   "cell_type": "code",
   "execution_count": 50,
   "metadata": {},
   "outputs": [
    {
     "data": {
      "text/plain": [
       "<matplotlib.legend.Legend at 0x7fd9217a7630>"
      ]
     },
     "execution_count": 50,
     "metadata": {},
     "output_type": "execute_result"
    },
    {
     "data": {
      "image/png": "[encoded data removed]",
      "text/plain": [
       "<matplotlib.figure.Figure at 0x7fd922a80eb8>"
      ]
     },
     "metadata": {
      "needs_background": "light"
     },
     "output_type": "display_data"
    }
   ],
   "source": [
    "fig, ax = plt.subplots()\n",
    "losses = np.array(losses)\n",
    "plt.plot(losses.T[0], label='Discriminator')\n",
    "plt.plot(losses.T[1], label='Generator')\n",
    "plt.title(\"Training Losses\")\n",
    "plt.legend()"
   ]
  },
  {
   "cell_type": "markdown",
   "metadata": {},
   "source": [
    "## Generator samples from training\n",
    "\n",
    "Here we can view samples of images from the generator. First we'll look at the images we saved during training."
   ]
  },
  {
   "cell_type": "code",
   "execution_count": 51,
   "metadata": {},
   "outputs": [],
   "source": [
    "# helper function for viewing a list of passed in sample images\n",
    "def view_samples(epoch, samples):\n",
    "    fig, axes = plt.subplots(figsize=(7,7), nrows=4, ncols=4, sharey=True, sharex=True)\n",
    "    for ax, img in zip(axes.flatten(), samples[epoch]):\n",
    "        img = img.detach()\n",
    "        ax.xaxis.set_visible(False)\n",
    "        ax.yaxis.set_visible(False)\n",
    "        im = ax.imshow(img.reshape((28,28)), cmap='Greys_r')"
   ]
  },
  {
   "cell_type": "code",
   "execution_count": 52,
   "metadata": {},
   "outputs": [],
   "source": [
    "# Load samples from generator, taken while training\n",
    "with open('train_samples.pkl', 'rb') as f:\n",
    "    samples = pkl.load(f)"
   ]
  },
  {
   "cell_type": "markdown",
   "metadata": {},
   "source": [
    "These are samples from the final training epoch. You can see the generator is able to reproduce numbers like 1, 7, 3, 2. Since this is just a sample, it isn't representative of the full range of images this generator can make."
   ]
  },
  {
   "cell_type": "code",
   "execution_count": 53,
   "metadata": {},
   "outputs": [
    {
     "data": {
      "image/png": "[encoded data removed]",
      "text/plain": [
       "<matplotlib.figure.Figure at 0x7fd921bbac18>"
      ]
     },
     "metadata": {
      "needs_background": "light"
     },
     "output_type": "display_data"
    }
   ],
   "source": [
    "# -1 indicates final epoch's samples (the last in the list)\n",
    "view_samples(-1, samples)"
   ]
  },
  {
   "cell_type": "markdown",
   "metadata": {},
   "source": [
    "Below I'm showing the generated images as the network was training, every 10 epochs."
   ]
  },
  {
   "cell_type": "code",
   "execution_count": 54,
   "metadata": {},
   "outputs": [
    {
     "data": {
      "image/png": "[encoded data removed]",
      "text/plain": [
       "<matplotlib.figure.Figure at 0x7fd92186b3c8>"
      ]
     },
     "metadata": {
      "needs_background": "light"
     },
     "output_type": "display_data"
    }
   ],
   "source": [
    "rows = 10 # split epochs into 10, so 100/10 = every 10 epochs\n",
    "cols = 6\n",
    "fig, axes = plt.subplots(figsize=(7,12), nrows=rows, ncols=cols, sharex=True, sharey=True)\n",
    "\n",
    "for sample, ax_row in zip(samples[::int(len(samples)/rows)], axes):\n",
    "    for img, ax in zip(sample[::int(len(sample)/cols)], ax_row):\n",
    "        img = img.detach()\n",
    "        ax.imshow(img.reshape((28,28)), cmap='Greys_r')\n",
    "        ax.xaxis.set_visible(False)\n",
    "        ax.yaxis.set_visible(False)"
   ]
  },
  {
   "cell_type": "markdown",
   "metadata": {},
   "source": [
    "It starts out as all noise. Then it learns to make only the center white and the rest black. You can start to see some number like structures appear out of the noise like 1s and 9s."
   ]
  },
  {
   "cell_type": "markdown",
   "metadata": {},
   "source": [
    "## Sampling from the generator\n",
    "\n",
    "We can also get completely new images from the generator by using the checkpoint we saved after training. **We just need to pass in a new latent vector $z$ and we'll get new samples**!"
   ]
  },
  {
   "cell_type": "code",
   "execution_count": 55,
   "metadata": {},
   "outputs": [
    {
     "data": {
      "image/png": "[encoded data removed]",
      "text/plain": [
       "<matplotlib.figure.Figure at 0x7fd920c11400>"
      ]
     },
     "metadata": {
      "needs_background": "light"
     },
     "output_type": "display_data"
    }
   ],
   "source": [
    "# randomly generated, new latent vectors\n",
    "sample_size=16\n",
    "rand_z = np.random.uniform(-1, 1, size=(sample_size, z_size))\n",
    "rand_z = torch.from_numpy(rand_z).float()\n",
    "\n",
    "G.eval() # eval mode\n",
    "# generated samples\n",
    "rand_images = G(rand_z)\n",
    "\n",
    "# 0 indicates the first set of samples in the passed in list\n",
    "# and we only have one batch of samples, here\n",
    "view_samples(0, [rand_images])"
   ]
  },
  {
   "cell_type": "code",
   "execution_count": null,
   "metadata": {},
   "outputs": [],
   "source": []
  }
 ],
 "metadata": {
  "kernelspec": {
   "display_name": "Python 3",
   "language": "python",
   "name": "python3"
  },
  "language_info": {
   "codemirror_mode": {
    "name": "ipython",
    "version": 3
   },
   "file_extension": ".py",
   "mimetype": "text/x-python",
   "name": "python",
   "nbconvert_exporter": "python",
   "pygments_lexer": "ipython3",
   "version": "3.6.3"
  }
 },
 "nbformat": 4,
 "nbformat_minor": 2
}
